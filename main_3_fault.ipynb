{
 "cells": [
  {
   "cell_type": "markdown",
   "metadata": {},
   "source": [
    "# Do not update the first cell (it's related to surface/formation structure)"
   ]
  },
  {
   "cell_type": "code",
   "execution_count": 1,
   "metadata": {},
   "outputs": [],
   "source": [
    "%load_ext autoreload\n",
    "%autoreload 2\n",
    "#### DO NOT UPDATE THIS CELL ########\n",
    "import matplotlib.pyplot as plt\n",
    "import numpy as np\n",
    "from __generate_surface import generate_flaut_slip_example\n",
    "grid = generate_flaut_slip_example()\n"
   ]
  },
  {
   "cell_type": "markdown",
   "metadata": {},
   "source": [
    "# now you can play with this workflow below"
   ]
  },
  {
   "cell_type": "code",
   "execution_count": 2,
   "metadata": {},
   "outputs": [
    {
     "data": {
      "application/vnd.jupyter.widget-view+json": {
       "model_id": "42297862d0984e298edbbaf27297edef",
       "version_major": 2,
       "version_minor": 0
      },
      "text/plain": [
       "Widget(value='<iframe src=\"http://localhost:53626/index.html?ui=P_0x205e8279130_0&reconnect=auto\" class=\"pyvis…"
      ]
     },
     "metadata": {},
     "output_type": "display_data"
    }
   ],
   "source": [
    "# quick check the structure grid\n",
    "grid.visual_3D_from_formation_grid('top_to_bottom_formation',vertical_colorbar =False)"
   ]
  },
  {
   "cell_type": "code",
   "execution_count": 3,
   "metadata": {},
   "outputs": [],
   "source": [
    "grid.cmg_corner_point_generate(top_surface_name='top', bottom_surface_name='bottom' )"
   ]
  },
  {
   "cell_type": "code",
   "execution_count": 4,
   "metadata": {},
   "outputs": [],
   "source": [
    "grid.write_cmg_corner_points_input_file('.','top_to_bottom_formation')"
   ]
  },
  {
   "cell_type": "code",
   "execution_count": 5,
   "metadata": {},
   "outputs": [],
   "source": [
    "# load porosity and facies model whose size is 16x32x32 in z-, y-, and x-direction\n",
    "Facies = np.load('facie_16x32x32.npy')\n",
    "Porosity = np.load('porosity_16x32x32.npy')"
   ]
  },
  {
   "cell_type": "code",
   "execution_count": 9,
   "metadata": {},
   "outputs": [
    {
     "name": "stdout",
     "output_type": "stream",
     "text": [
      "formation_grids are ...: \n",
      "- top_to_bottom_formation\n"
     ]
    }
   ],
   "source": [
    "# let's check what are existing formation_grids in \"Stratigraphy_Grid\"\n",
    "grid.print_formation_grids()"
   ]
  },
  {
   "cell_type": "code",
   "execution_count": 10,
   "metadata": {},
   "outputs": [
    {
     "name": "stdout",
     "output_type": "stream",
     "text": [
      "Facies succesfully added to top_to_bottom_formation\n",
      "formation_grids[formation_name].keys are ['xx', 'yy', 'zz', 'Facies']\n",
      "Porosity succesfully added to top_to_bottom_formation\n",
      "formation_grids[formation_name].keys are ['xx', 'yy', 'zz', 'Facies', 'Porosity']\n"
     ]
    }
   ],
   "source": [
    "# add properties to the formation grid (resampling is required so it may takes around 15 sec each\n",
    "grid._add_value_to_grid(formation_name='top_to_bottom_formation',value = Facies,value_name = 'Facies')\n",
    "grid._add_value_to_grid(formation_name='top_to_bottom_formation',value = Porosity,value_name = 'Porosity')\n"
   ]
  },
  {
   "cell_type": "code",
   "execution_count": 11,
   "metadata": {},
   "outputs": [
    {
     "data": {
      "application/vnd.jupyter.widget-view+json": {
       "model_id": "390b43383a1b43f7a8308d7f64a8fb8d",
       "version_major": 2,
       "version_minor": 0
      },
      "text/plain": [
       "Widget(value=\"<iframe src='http://localhost:53448/index.html?ui=P_0x1fa90475d90_1&reconnect=auto' style='width…"
      ]
     },
     "metadata": {},
     "output_type": "display_data"
    }
   ],
   "source": [
    "# visualize Facies\n",
    "grid.visual_3D_from_formation_grid('top_to_bottom_formation',value_name = 'Facies')"
   ]
  },
  {
   "cell_type": "markdown",
   "metadata": {},
   "source": [
    "## Don't forget to double check with the simple plt.imshow of top layer"
   ]
  },
  {
   "cell_type": "code",
   "execution_count": 12,
   "metadata": {},
   "outputs": [
    {
     "data": {
      "text/plain": [
       "Text(0, 0.5, 'Northing')"
      ]
     },
     "execution_count": 12,
     "metadata": {},
     "output_type": "execute_result"
    },
    {
     "data": {
      "image/png": "[encoded data removed]",
      "text/plain": [
       "<Figure size 640x480 with 1 Axes>"
      ]
     },
     "metadata": {},
     "output_type": "display_data"
    }
   ],
   "source": [
    "plt.imshow(Facies[0])\n",
    "plt.gca().invert_yaxis()\n",
    "plt.scatter([9,9,23,23],[9,23,9,23],c = [0, 0, 0, 0],edgecolors = 'k',marker = 'o', label = 'Well location')\n",
    "plt.legend()\n",
    "plt.xlabel('Easting')\n",
    "plt.ylabel('Northing')"
   ]
  },
  {
   "cell_type": "code",
   "execution_count": null,
   "metadata": {},
   "outputs": [],
   "source": []
  }
 ],
 "metadata": {
  "kernelspec": {
   "display_name": "base",
   "language": "python",
   "name": "python3"
  },
  "language_info": {
   "codemirror_mode": {
    "name": "ipython",
    "version": 3
   },
   "file_extension": ".py",
   "mimetype": "text/x-python",
   "name": "python",
   "nbconvert_exporter": "python",
   "pygments_lexer": "ipython3",
   "version": "3.12.7"
  }
 },
 "nbformat": 4,
 "nbformat_minor": 2
}
