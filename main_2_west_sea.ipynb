{
 "cells": [
  {
   "cell_type": "markdown",
   "metadata": {},
   "source": [
    "# Do not update the first cell (it's related to surface/formation structure)"
   ]
  },
  {
   "cell_type": "code",
   "execution_count": null,
   "metadata": {},
   "outputs": [],
   "source": [
    "%load_ext autoreload\n",
    "%autoreload 2\n",
    "#### DO NOT UPDATE THIS CELL ########\n",
    "import matplotlib.pyplot as plt\n",
    "import numpy as np\n",
    "from reservoir_grid import Stratigraphy_Grid\n",
    "from scipy.spatial import Delaunay\n",
    "import trimesh"
   ]
  },
  {
   "cell_type": "markdown",
   "metadata": {},
   "source": [
    "# now you can play with this workflow below"
   ]
  },
  {
   "cell_type": "code",
   "execution_count": null,
   "metadata": {},
   "outputs": [],
   "source": [
    "top_2 = np.loadtxt('dataset/west_sea_2024/Base_SU7_middle_Miocene.dat')\n",
    "top_2[:,2] *= -10\n",
    "top = np.loadtxt('dataset/west_sea_2024/Base_SU6_Interbedded_Seal.dat')\n",
    "top[:,2] *= -10\n",
    "bottom = np.loadtxt('dataset/west_sea_2024/Base_SU5_Top_Cretaceous.dat')\n",
    "bottom[:,2] *= -10"
   ]
  },
  {
   "cell_type": "code",
   "execution_count": null,
   "metadata": {},
   "outputs": [],
   "source": [
    "top_2_pts = top_2[:,0:2]\n",
    "top_2_pts_3d = top_2\n",
    "\n",
    "top_pts = top[:,0:2]\n",
    "top_pts_3d = top\n",
    "bottom_pts = bottom[:,0:2]\n",
    "bottom_pts_3d = bottom\n",
    "\n",
    "top_2_tri = Delaunay(top_2_pts)\n",
    "top_tri = Delaunay(top_pts)\n",
    "bottom_tri = Delaunay(bottom_pts)\n",
    "\n",
    "top_2 = trimesh.Trimesh(vertices=top_2_pts_3d,\n",
    "                    faces=top_2_tri.simplices,\n",
    "                    process=True)\n",
    "\n",
    "top = trimesh.Trimesh(vertices=top_pts_3d,\n",
    "                    faces=top_tri.simplices,\n",
    "                    process=True)\n",
    "bottom = trimesh.Trimesh(vertices=bottom_pts_3d,\n",
    "                    faces=bottom_tri.simplices,\n",
    "                    process=True)\n"
   ]
  },
  {
   "cell_type": "code",
   "execution_count": null,
   "metadata": {},
   "outputs": [],
   "source": [
    "heading_to_sky = np.array([0, 0, 1])\n",
    "angles = np.arccos(np.sum(top.face_normals*heading_to_sky,axis = 1))"
   ]
  },
  {
   "cell_type": "code",
   "execution_count": null,
   "metadata": {},
   "outputs": [],
   "source": [
    "angle_in_deg = np.rad2deg(angles)\n",
    "# plt.hist(angle_in_deg, bins = 50);/"
   ]
  },
  {
   "cell_type": "code",
   "execution_count": null,
   "metadata": {},
   "outputs": [],
   "source": [
    "threshold_to_tell_disconnect = np.percentile(angle_in_deg,98)\n",
    "flag_of_fault = angle_in_deg > threshold_to_tell_disconnect\n",
    "top_new = trimesh.Trimesh(vertices=top_pts_3d,\n",
    "                    faces=top_tri.simplices[~flag_of_fault],\n",
    "                    process=True)"
   ]
  },
  {
   "cell_type": "code",
   "execution_count": null,
   "metadata": {},
   "outputs": [],
   "source": [
    "visualize_surface([top_new])"
   ]
  },
  {
   "cell_type": "code",
   "execution_count": null,
   "metadata": {},
   "outputs": [],
   "source": [
    "\n",
    "# # Define a function to handle the click event\n",
    "# def onclick(event):\n",
    "#     if event.xdata is not None and event.ydata is not None:\n",
    "#         print(f\"Clicked point: ({event.xdata}, {event.ydata})\")\n",
    "\n",
    "\n",
    "# fig, ax = plt.subplots(1,2)\n",
    "\n",
    "# for i, surf in enumerate([top_pts_3d, bottom_pts_3d]):\n",
    "    \n",
    "#     ax[i].scatter(surf[:,0],\n",
    "#                 surf[:,1],\n",
    "#                 c = surf[:,2],\n",
    "#                 s = 4)\n",
    "#     plt.plot([x0,x0,x1,x1, x0], [y0, y1, y1, y0, y0], 'r-', linewidth=2)\n",
    "# plt.tight_layout()\n",
    "# # Connect the click event to the function\n",
    "# cid = fig.canvas.mpl_connect('button_press_event', onclick)\n",
    "\n",
    "# plt.show()"
   ]
  },
  {
   "cell_type": "code",
   "execution_count": null,
   "metadata": {},
   "outputs": [],
   "source": [
    "x0 = max(639484.0417479295, 639673.5766733686)\n",
    "x1 = min(648283.877571888, 648040.1898106091)\n",
    "y0 = max(3986237.336147831, 3986917.2039575293)\n",
    "y1 = min(3990951.0862950725, 33990588.4901299)\n"
   ]
  },
  {
   "cell_type": "code",
   "execution_count": null,
   "metadata": {},
   "outputs": [],
   "source": [
    "# %matplotlib inline\n",
    "for i, surf in enumerate([top_pts_3d, bottom_pts_3d], 1):\n",
    "    plt.subplot(1,2,i)\n",
    "    plt.scatter(surf[:,0],\n",
    "                surf[:,1],\n",
    "                c = surf[:,2],\n",
    "                s = 4)\n",
    "    plt.plot([x0,x0,x1,x1, x0], [y0, y1, y1, y0, y0], 'r-', linewidth=2)\n",
    "    plt.grid('on')\n",
    "plt.tight_layout()\n",
    "plt.show()"
   ]
  },
  {
   "cell_type": "code",
   "execution_count": null,
   "metadata": {},
   "outputs": [],
   "source": [
    "nx, ny, nz = 100, 100, 16\n",
    "\n",
    "grid = Stratigraphy_Grid(num_grid = [nx, ny, nz], extent = [x0, x1, y0, y1], positive_depth = False)\n",
    "grid.load_horizons(top,'top')\n",
    "grid.load_horizons(bottom,'bottom')\n",
    "grid.cmg_corner_point_generate('top','bottom')\n",
    "grid.load_xx_yy_zz('top','bottom')"
   ]
  },
  {
   "cell_type": "code",
   "execution_count": null,
   "metadata": {},
   "outputs": [],
   "source": [
    "# quick check the structure grid\n",
    "grid.visual_3D_from_formation_grid('top_to_bottom_formation',vertical_colorbar =False, aspect_ratio= 1)"
   ]
  },
  {
   "cell_type": "code",
   "execution_count": null,
   "metadata": {},
   "outputs": [],
   "source": []
  },
  {
   "cell_type": "code",
   "execution_count": null,
   "metadata": {},
   "outputs": [],
   "source": []
  },
  {
   "cell_type": "code",
   "execution_count": null,
   "metadata": {},
   "outputs": [],
   "source": []
  },
  {
   "cell_type": "code",
   "execution_count": null,
   "metadata": {},
   "outputs": [],
   "source": []
  },
  {
   "cell_type": "code",
   "execution_count": null,
   "metadata": {},
   "outputs": [],
   "source": [
    "grid.write_cmg_corner_points_input_file('.','top_to_bottom_formation')"
   ]
  },
  {
   "cell_type": "code",
   "execution_count": null,
   "metadata": {},
   "outputs": [],
   "source": [
    "# load porosity and facies model whose size is 16x32x32 in z-, y-, and x-direction\n",
    "Facies = np.load('facie_16x32x32.npy')\n",
    "Porosity = np.load('porosity_16x32x32.npy')"
   ]
  },
  {
   "cell_type": "code",
   "execution_count": null,
   "metadata": {},
   "outputs": [],
   "source": [
    "# let's check what are existing formation_grids in \"Stratigraphy_Grid\"\n",
    "grid.print_formation_grids()"
   ]
  },
  {
   "cell_type": "code",
   "execution_count": null,
   "metadata": {},
   "outputs": [],
   "source": [
    "# add properties to the formation grid (resampling is required so it may takes around 15 sec each\n",
    "grid._add_value_to_grid(formation_name='top_to_bottom_formation',value = Facies,value_name = 'Facies')\n",
    "grid._add_value_to_grid(formation_name='top_to_bottom_formation',value = Porosity,value_name = 'Porosity')\n"
   ]
  },
  {
   "cell_type": "code",
   "execution_count": null,
   "metadata": {},
   "outputs": [],
   "source": [
    "# visualize Facies\n",
    "grid.visual_3D_from_formation_grid('top_to_bottom_formation',value_name = 'Facies')"
   ]
  },
  {
   "cell_type": "code",
   "execution_count": null,
   "metadata": {},
   "outputs": [],
   "source": []
  },
  {
   "cell_type": "code",
   "execution_count": null,
   "metadata": {},
   "outputs": [],
   "source": []
  }
 ],
 "metadata": {
  "kernelspec": {
   "display_name": "base",
   "language": "python",
   "name": "python3"
  },
  "language_info": {
   "codemirror_mode": {
    "name": "ipython",
    "version": 3
   },
   "file_extension": ".py",
   "mimetype": "text/x-python",
   "name": "python",
   "nbconvert_exporter": "python",
   "pygments_lexer": "ipython3",
   "version": "3.12.7"
  }
 },
 "nbformat": 4,
 "nbformat_minor": 2
}
