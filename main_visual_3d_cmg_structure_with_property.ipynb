{
 "cells": [
  {
   "cell_type": "code",
   "execution_count": 1,
   "id": "8ac2b082",
   "metadata": {},
   "outputs": [
    {
     "name": "stdout",
     "output_type": "stream",
     "text": [
      "Jupyter environment detected. Enabling Open3D WebVisualizer.\n",
      "[Open3D INFO] WebRTC GUI backend enabled.\n",
      "[Open3D INFO] WebRTCWindowSystem: HTTP handshake server disabled.\n"
     ]
    }
   ],
   "source": [
    "%load_ext autoreload\n",
    "%autoreload 2\n",
    "import numpy as np\n",
    "from _visualize_3d_grid_open3d import visual_3d_with_structure \n",
    "from _load_cmg_corners_to_vertices import load_cmg_structure_to_python"
   ]
  },
  {
   "cell_type": "code",
   "execution_count": 2,
   "id": "330793ae",
   "metadata": {},
   "outputs": [],
   "source": [
    "porosity = np.load('porosity_16x32x32.npy')"
   ]
  },
  {
   "cell_type": "code",
   "execution_count": 15,
   "id": "e401bc4a",
   "metadata": {},
   "outputs": [],
   "source": [
    "xcorn, ycorn, zcorn = load_cmg_structure_to_python(cmg_folder = 'example_cmg_structure', \n",
    "                                                    corner_files = ['xcorn.inc','ycorn.inc','zcorn.inc'], \n",
    "                                                    nx = 32, \n",
    "                                                    ny = 32, \n",
    "                                                    nz = 16, \n",
    "                                                    skiprows = 1,\n",
    "                                                    vertical_exaggeration = 10)"
   ]
  },
  {
   "cell_type": "code",
   "execution_count": 16,
   "id": "09f14441",
   "metadata": {},
   "outputs": [],
   "source": [
    "visual_3d_with_structure(porosity, xcorn, ycorn, zcorn)"
   ]
  }
 ],
 "metadata": {
  "kernelspec": {
   "display_name": "base",
   "language": "python",
   "name": "python3"
  },
  "language_info": {
   "codemirror_mode": {
    "name": "ipython",
    "version": 3
   },
   "file_extension": ".py",
   "mimetype": "text/x-python",
   "name": "python",
   "nbconvert_exporter": "python",
   "pygments_lexer": "ipython3",
   "version": "3.12.7"
  }
 },
 "nbformat": 4,
 "nbformat_minor": 5
}
